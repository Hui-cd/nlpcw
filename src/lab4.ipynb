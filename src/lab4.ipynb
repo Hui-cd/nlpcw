{
 "cells": [
  {
   "cell_type": "markdown",
   "id": "b1e62acf",
   "metadata": {},
   "source": [
    "# LAB1\n",
    "\n",
    "## Numpy ##\n",
    "\n",
    "Documentation: https://numpy.org/doc/stable/\n",
    "\n",
    "It is a well maintained library used to perform (complex) mathematical computation on data structures such as vectors, matrices.\n",
    "\n",
    "Radu-Daniel Voit, Last update 31/01/2022\n",
    "\n",
    "Copyright University of Southampton, 2022. Permission is granted for copies to be made for personal use by University of Southampton students. This content should not be shared on published outside the University of Southampton."
   ]
  },
  {
   "cell_type": "markdown",
   "id": "7b8787dd",
   "metadata": {},
   "source": [
    "### Initialisation  ###\n",
    "\n",
    "Numpy arrays are initialised using the np.array() command. \n",
    "Run the following code:"
   ]
  },
  {
   "cell_type": "code",
   "execution_count": null,
   "id": "b9f14961",
   "metadata": {},
   "outputs": [],
   "source": [
    "import numpy as np\n",
    "\n",
    "#Here is an example of vector initialisation\n",
    "x = np.array([1,2,3])"
   ]
  },
  {
   "cell_type": "markdown",
   "id": "6c4b02da",
   "metadata": {},
   "source": [
    "\n",
    "Now, check x's datatype using the *type()* function"
   ]
  },
  {
   "cell_type": "code",
   "execution_count": null,
   "id": "0dac69f5",
   "metadata": {},
   "outputs": [],
   "source": [
    "# Write code here:\n"
   ]
  },
  {
   "cell_type": "markdown",
   "id": "3a7956d3",
   "metadata": {},
   "source": [
    "\n",
    "The correct output: *numpy.ndarray*"
   ]
  },
  {
   "cell_type": "markdown",
   "id": "64e30762",
   "metadata": {},
   "source": [
    "\n",
    "Now, let's initialise a **matrix** *m*:"
   ]
  },
  {
   "cell_type": "code",
   "execution_count": null,
   "id": "8f91e907",
   "metadata": {},
   "outputs": [],
   "source": [
    "# Matrix initialisation\n",
    "m = np.array([[1, 5],\n",
    "              [2, 3],\n",
    "              [4, 3]])"
   ]
  },
  {
   "cell_type": "markdown",
   "id": "9e9a6b2a",
   "metadata": {},
   "source": [
    "\n",
    "**Note:** When working with different mathematical structures in python, it is always a good ideea to keep track of the variable's dimensions\n",
    "\n",
    "Write the code that outputs m's shape and run the code block:"
   ]
  },
  {
   "cell_type": "code",
   "execution_count": null,
   "id": "e052c8d8",
   "metadata": {},
   "outputs": [],
   "source": [
    "print(\"x's size is:\", x.shape)\n",
    "\n",
    "#print(\"m's dimension is:\", - your code here -)"
   ]
  },
  {
   "cell_type": "markdown",
   "id": "8e9c1ee9",
   "metadata": {},
   "source": [
    "\n",
    "**Note:** x is a one dimensional array, but one of the dimensions is empty in the output. In order to avoid bugs, it is preffered to represent vectors as (n,1) dimensional array.\n",
    "\n",
    "In order to do this, you can use the *np.reshape()* method.\n",
    "Search the numpy documentation and write the code to reshape *x* into a **(3,1)** sized array. Print x and its resulted shape.\n"
   ]
  },
  {
   "cell_type": "code",
   "execution_count": null,
   "id": "f978cf59",
   "metadata": {},
   "outputs": [],
   "source": [
    "# Complete, uncomment and run the code\n",
    "\n",
    "#x = \n",
    "\n",
    "# print()\n",
    "# print()"
   ]
  },
  {
   "cell_type": "markdown",
   "id": "c19af2c3",
   "metadata": {},
   "source": [
    "\n",
    "You can also initialise numpy arrays filled with random values or 0's by passing the dimensions of the array to the *np.zeros()* and *np.random.rand()* methods. \n",
    "\n",
    "Initialise a one dimensional array with 0 values, and a 3 x 3 matrix of random values:"
   ]
  },
  {
   "cell_type": "code",
   "execution_count": null,
   "id": "077d8166",
   "metadata": {},
   "outputs": [],
   "source": [
    "# Write code here:\n"
   ]
  },
  {
   "cell_type": "markdown",
   "id": "e500ad65",
   "metadata": {},
   "source": [
    "### Operators ####\n",
    "\n",
    "In contrast to the python lists, numpy arrays are \"specialised data structures\". Also, most of the operations in numpy are implemented in C. This combined properties allow for much faster computations, especially on vectors and matrices. "
   ]
  },
  {
   "cell_type": "markdown",
   "id": "d5667355",
   "metadata": {},
   "source": [
    "Numpy offers a wide variety of operators, ranging from elementwise to logical and statistical. I invite you to check the oficial documentation for more detail on each operator, as this tutorial will only touch on the basics."
   ]
  },
  {
   "cell_type": "markdown",
   "id": "acd7168b",
   "metadata": {},
   "source": [
    "Run the code below to see the time differece when performing the dot (scalar) product of two equally sized vectors using numpy *np.dot()* operator and classic for-loop python code."
   ]
  },
  {
   "cell_type": "code",
   "execution_count": null,
   "id": "d2b3da6a",
   "metadata": {},
   "outputs": [],
   "source": [
    "import time\n",
    "\n",
    "#initialise 2 vectors\n",
    "a = np.random.rand(1000000)\n",
    "b = np.random.rand(1000000)\n",
    "\n",
    "tic = time.time() #register time\n",
    "p = np.dot(a,b)\n",
    "toc= time.time()\n",
    "\n",
    "print(\"Numpy dot product took:\", str(1000*(toc-tic)), \"ms\")\n",
    "\n",
    "#for loop implementation\n",
    "c = 0\n",
    "\n",
    "tic = time.time()\n",
    "for i in range(1000000):\n",
    "    c += a[i] * b[i]\n",
    "toc = time.time()\n",
    "\n",
    "print(\"For loop implementation took:\", str(1000*(toc-tic)), \"ms\")"
   ]
  },
  {
   "cell_type": "markdown",
   "id": "1ed52f59",
   "metadata": {},
   "source": [
    "Now, lets test more elementwise operations. Using the documentation, write the code to initialise a vector x with the values (1,2,3,4,5) and perform: scalar addition and multiplication    "
   ]
  },
  {
   "cell_type": "code",
   "execution_count": null,
   "id": "a1a08213",
   "metadata": {},
   "outputs": [],
   "source": [
    "# x = -your code here-\n",
    "# print(\"Addition result:\", -your code here-)\n",
    "# print(\"Multiplication result:\", -your code here-)"
   ]
  },
  {
   "cell_type": "markdown",
   "id": "1f072379",
   "metadata": {},
   "source": [
    "Initialise a vector y with the values (3,3,4,5,5). Uncomment the rest of the code and run it."
   ]
  },
  {
   "cell_type": "code",
   "execution_count": null,
   "id": "48e1c5f0",
   "metadata": {},
   "outputs": [],
   "source": [
    "#y= -your code here-\n",
    "\n",
    "#addition = x + y\n",
    "#multiplication = x * y\n",
    "#print(\"Addition result:\", addition)\n",
    "#print(\"Multipl result\", multiplication)"
   ]
  },
  {
   "cell_type": "markdown",
   "id": "dfc65e2a",
   "metadata": {},
   "source": [
    "\n",
    "**Note** Array multiplication it is not the same as matrix product. \n",
    "\n",
    "Now, run the code below to initialise two matrices."
   ]
  },
  {
   "cell_type": "code",
   "execution_count": null,
   "id": "7b2add52",
   "metadata": {},
   "outputs": [],
   "source": [
    "# Initialise 2 3x3 matrices\n",
    "\n",
    "a = np.array([[0, 3, 4],\n",
    "              [1, 6, 4],\n",
    "              [2, 3, 3]])\n",
    "\n",
    "b = np.ones((3,3))\n",
    "\n",
    "print(\"a =\", a)\n",
    "print()\n",
    "print(\"b =\", b)"
   ]
  },
  {
   "cell_type": "markdown",
   "id": "2d7a9300",
   "metadata": {},
   "source": [
    "Try some operations. What do you observe?"
   ]
  },
  {
   "cell_type": "code",
   "execution_count": null,
   "id": "0251da7b",
   "metadata": {},
   "outputs": [],
   "source": [
    "# Write your code here:\n"
   ]
  },
  {
   "cell_type": "markdown",
   "id": "61207278",
   "metadata": {},
   "source": [
    "One of the most usefull operators used for array manipulation is *np.transpose*. In practice, for an numpy array *a*, its transpose is computed using *a.T*. Now, lets take for example one of the most popular equations in machine learning:\n",
    "\n",
    "**Y = wX + b** \n",
    "\n",
    "In the following code sample example, *X* is a (3 x 10) dimensional matrix representing input data and\n",
    "*w* is the weight vector of size 3\n",
    "\n",
    "In order to find Y, we have to calculate wX first. Read the following code, and run it.\n",
    "Make the necessary changes in order to avoid errors."
   ]
  },
  {
   "cell_type": "code",
   "execution_count": null,
   "id": "8da6dd03",
   "metadata": {},
   "outputs": [],
   "source": [
    "# Run and modify this code\n",
    "\n",
    "X = np.random.rand(3,10)\n",
    "w = np.random.rand(3,1)\n",
    "\n",
    "product = np.dot(w,X)\n",
    "print(\"wX = \", product)\n",
    "print()\n",
    "print(\"The shape of wX is:\", product.shape)"
   ]
  },
  {
   "cell_type": "markdown",
   "id": "f17f2aab",
   "metadata": {},
   "source": [
    "**Note** Given an array X, functions such as *np.exp(X)* applies the exponential function to every element of X => np.exp(X) = (e^(x_1), e^(x_2), ..., e^(x_n)"
   ]
  },
  {
   "cell_type": "code",
   "execution_count": null,
   "id": "97368099",
   "metadata": {},
   "outputs": [],
   "source": [
    "# Run this code\n",
    "np.exp(x)"
   ]
  },
  {
   "cell_type": "markdown",
   "id": "2e9923ef",
   "metadata": {},
   "source": [
    "In the following example, you will need to complete the code to implement a method for normalising a matrix row-wise. You will use the *np.linalg.norm(x, axis=1, keepdims=True)* method to compute the norm of a matrix x (x_norm). Then, using the formula X_normalised = x / x_norm we will normalise the matrix."
   ]
  },
  {
   "cell_type": "markdown",
   "id": "546a6d89",
   "metadata": {},
   "source": [
    "*axis = 1* indicates that the norm will be computed row-wise. When axis=0 is set, the function will be applied column wise"
   ]
  },
  {
   "cell_type": "markdown",
   "id": "bcb68f5d",
   "metadata": {},
   "source": [
    "*keepdims=True* ensures that the result will shaped correctly against x. Reshaping and broadcasting are discussed later in this tutorial"
   ]
  },
  {
   "cell_type": "code",
   "execution_count": null,
   "id": "f9587790",
   "metadata": {},
   "outputs": [],
   "source": [
    "# Function for normalising rows in a matrix\n",
    "\n",
    "def normalise(x):\n",
    "\n",
    "    \"\"\"\n",
    "    Arg: x - a numpy matrix of shape(n,m)\n",
    "    Output: norm - matrix x normalised by row\n",
    "    \n",
    "    \"\"\"\n",
    "#    x_norm =  -your code here- \n",
    "#    norm = -your code here-\n",
    "\n",
    "    return norm"
   ]
  },
  {
   "cell_type": "markdown",
   "id": "80823edf",
   "metadata": {},
   "source": [
    "### BroadCasting and Reshaping ####\n",
    "**Documentation broadcasting:**https://numpy.org/doc/stable/user/basics.broadcasting.html \n",
    "\n",
    "**Documentation reshape:** https://numpy.org/doc/stable/reference/generated/numpy.reshape.html\n",
    "\n",
    "\n",
    "In numpy, **broadcasting** refers to the process of reshaping an array of smaller size to make it compatible for operations with arrays of higher dimensions. The simplest usage of broadcasting can be seen when performing operations between an array (*a* ) and a scalar (*s*). As mentioned in the documentation, *s* is broadcasted into an array of the same size as *a*\n",
    "\n",
    "*s := (s_1, s_2,..., s_n), where s_1 = s_2 = ... = s_n = s and n = len(a)*\n",
    "\n",
    "**Note:** It is important to be mindful of when broadcasting is used as it can slow the computational process"
   ]
  },
  {
   "cell_type": "markdown",
   "id": "0519c23b",
   "metadata": {},
   "source": [
    "When an operation requires broadcasting, Numpy first checks the compatibility of the two arrays by comparing the shapes, starting with the rightmost dimensions. Two dimensions are considered compatible if they are equal or one of them is 1.\n",
    "\n",
    "Run the following code to see broadcasting at work."
   ]
  },
  {
   "cell_type": "code",
   "execution_count": null,
   "id": "c464c80d",
   "metadata": {},
   "outputs": [],
   "source": [
    "# Run the following code:\n",
    "\n",
    "a = np.array([[0, 3, 4],\n",
    "              [1, 6, 4],\n",
    "              [2, 3, 3]])\n",
    "\n",
    "x = np.ones((1,3)) \n",
    "\n",
    "print(\"a_shape:\", a.shape)\n",
    "print(\"x_shape:\", x.shape)\n",
    "print()\n",
    "\n",
    "ad = a + x\n",
    "print(\"a + x = \")\n",
    "print(ad)\n",
    "print()\n",
    "print(\"ad_shape:\", ad.shape)"
   ]
  },
  {
   "cell_type": "markdown",
   "id": "0444d542",
   "metadata": {},
   "source": [
    "The shapes are compatible, therefore the operation can be performed, and it works with all dimensions:"
   ]
  },
  {
   "cell_type": "code",
   "execution_count": null,
   "id": "e4e46cf2",
   "metadata": {},
   "outputs": [],
   "source": [
    "# Run the following code:\n",
    "\n",
    "a = np.ones((6,1,5,1,3))\n",
    "x = np.ones((4,1,2,3))\n",
    "\n",
    "print(\"a_shape:\", a.shape)\n",
    "print(\"x_shape:\", \"  \",x.shape)\n",
    "print()\n",
    "ad = a + x\n",
    "print(\"ad_shape:\", ad.shape)"
   ]
  },
  {
   "cell_type": "markdown",
   "id": "fee8e6b3",
   "metadata": {},
   "source": [
    "When the arrays are not compatible, the following ValueError will be thrown: "
   ]
  },
  {
   "cell_type": "code",
   "execution_count": null,
   "id": "f2017ca0",
   "metadata": {},
   "outputs": [],
   "source": [
    "# Run the following code\n",
    "\n",
    "a = np.ones((3,3,3))\n",
    "x = np.ones((3,2,3))\n",
    "\n",
    "print(\"a_shape:\", a.shape)\n",
    "print(\"x_shape:\", x.shape)\n",
    "print()\n",
    "ad = a + x\n",
    "print(\"ad_shape:\", ad.shape)"
   ]
  },
  {
   "cell_type": "markdown",
   "id": "3942920a",
   "metadata": {},
   "source": [
    "In addition to this, you might choose to perform reshaping yourself, depending on the task at hand. One of the most encoutered practical examples would be the reshaping of images, represented as 3-dimensional arrays of shape: *(length, height, 3)*, are reshaped (or \"rolled\") into a 1D array *(length*height*3,1)* in order to be processed.\n",
    "\n",
    "Please complete the following code in order to implement a method for reshaping pictures. Use the documentaiton."
   ]
  },
  {
   "cell_type": "code",
   "execution_count": null,
   "id": "d02b3424",
   "metadata": {},
   "outputs": [],
   "source": [
    "# Complete the method and run the code:\n",
    "\n",
    "def image_to_vector(image):\n",
    "    \n",
    "    \"\"\"\n",
    "    Arg: image - an 3D array of shape(l, h, 3)\n",
    "    Output: vector - an 1D array of shape (l*h*3, 1)\n",
    "\n",
    "    \"\"\"\n",
    "    #Hint: use x.shape[i] returns the i'th dimension of array x\n",
    "    \n",
    "    #vector = \n",
    "    return vector  "
   ]
  },
  {
   "cell_type": "markdown",
   "id": "1d28f43c",
   "metadata": {},
   "source": [
    "Now, let's test it:"
   ]
  },
  {
   "cell_type": "code",
   "execution_count": null,
   "id": "fc331954",
   "metadata": {},
   "outputs": [],
   "source": [
    "# Run the followinng code\n",
    "\n",
    "test = np.random.rand(3,2,3)\n",
    "print(\"test image:\")\n",
    "print(test)\n",
    "print()\n",
    "\n",
    "test_vectorised = image_to_vector(test)\n",
    "print(\"The resulted vector is:\")\n",
    "print(test_vectorised)\n",
    "print()\n",
    "print(\"The shape of the vector is:\", test_vectorised.shape)"
   ]
  },
  {
   "cell_type": "markdown",
   "id": "a4ea6026",
   "metadata": {},
   "source": [
    "## HOMEWORK ##\n",
    "\n",
    "### Exercise 1\n",
    "\n",
    "Now, I invite you to test your numpy knowledge on a practical NLP exercise. Check the following sentences: \n",
    "\n",
    "*Margaret has a dog.*\n",
    "\n",
    "*Jane has a dog and a cat.*\n",
    "\n",
    "*The brown dog chases Jane's cat.*\n",
    "\n",
    "When looking at the vocabulary used in these sentences, you can see there are 10 different words used. Let variables *sentences* be a list of sentences and *vocabulary* = [Margaret, has, a , dog, Jane, and, cat, the, brown, chases] be the list of words used.\n",
    "\n",
    "Run the following code to declare them:"
   ]
  },
  {
   "cell_type": "code",
   "execution_count": null,
   "id": "8c883e7b",
   "metadata": {},
   "outputs": [],
   "source": [
    "# Run this code:\n",
    "\n",
    "sentences = ['Margaret has a dog',\n",
    "             'Jane has a dog and a cat',\n",
    "             'the brown dog chases Jane\\'s cat']\n",
    "\n",
    "vocabulary = [\"Margaret\", \"has\", \"a\" , \"dog\", \"Jane\", \"and\", \"cat\", \"the\", \"brown\", \"chases\"]"
   ]
  },
  {
   "cell_type": "markdown",
   "id": "f71a604e",
   "metadata": {},
   "source": [
    "Please write the code to check the type of *sentences* and *vocabulary* variables"
   ]
  },
  {
   "cell_type": "code",
   "execution_count": null,
   "id": "a78b4de1",
   "metadata": {},
   "outputs": [],
   "source": [
    "# Write your code"
   ]
  },
  {
   "cell_type": "markdown",
   "id": "e1827af6",
   "metadata": {},
   "source": [
    "Now, for simplicity in operations, let's transform each sentence in a list of words and store them into the same list:"
   ]
  },
  {
   "cell_type": "code",
   "execution_count": null,
   "id": "b6eb1d4c",
   "metadata": {},
   "outputs": [],
   "source": [
    "# Run this code:\n",
    "\n",
    "for i in range(0,len(sentences)):\n",
    "    sentence = sentences[i]\n",
    "    sentences[i] = sentence.split()\n",
    "    \n",
    "print(sentences)"
   ]
  },
  {
   "cell_type": "markdown",
   "id": "621ea411",
   "metadata": {},
   "source": [
    "**Bonus information** In NLP, extracting the words from a document and counting their number is called a Bag of Words. You will learn more about them later in the course. Lets contruct the bag-of-words for the input sentences given, using a python dictionary - a data structure which is used to store data as (key,value) pairs. The values in the dictionary are accessed using the keys. \n",
    "Here is how it works:"
   ]
  },
  {
   "cell_type": "code",
   "execution_count": null,
   "id": "ae6f6cf5",
   "metadata": {},
   "outputs": [],
   "source": [
    "# Run this code:\n",
    "\n",
    "bow = {} # This is how an empty dictionary is initialised\n",
    "\n",
    "for word in vocabulary:\n",
    "        appearances = 0\n",
    "        \n",
    "        for sentence in sentences:\n",
    "            appearances += sentence.count(word)\n",
    "            \n",
    "        # make a new entrance in the dictionary using the word as a key\n",
    "        # and store the number of appearances    \n",
    "        bow[word] = appearances \n",
    "        \n",
    "print(\"bow =\",bow)\n",
    "print(\"bow type is:\", type(bow))"
   ]
  },
  {
   "cell_type": "markdown",
   "id": "80c979d5",
   "metadata": {},
   "source": [
    "Now, in order to transform a sentence into a computable form, we can iterate through the vocabulary and verify what words appear in the sentence. The sentence will be represented as a vector of a size equal to the vocabulary filled with 0s and 1, marking which word appears in the sentence. This method is called One-Hot Enconding, and you will learn it in more details later in the course. \n",
    "\n",
    "Complete the code below in order to obtain the One-Hot encoding of the sentences."
   ]
  },
  {
   "cell_type": "code",
   "execution_count": null,
   "id": "a1d406b4",
   "metadata": {},
   "outputs": [],
   "source": [
    "# Complete and Run the code:\n",
    "\n",
    "def One_Hot_Encoder(data, vocabulary):\n",
    "\n",
    "    \"\"\"\n",
    "    Arg: data - a list of n sentences, where each sentence is a list of words\n",
    "         vocabulary - a set of m words used in the data\n",
    "         \n",
    "    Output: a numpy matrix (n x m) containing the one-hot encoded data, based on the vocabulary\n",
    "    \"\"\"\n",
    "    \n",
    "    n = len(data)\n",
    "    m = len(vocabulary) #your code here\n",
    "    \n",
    "    # Initialise a numpy matrix of sshape n x m.\n",
    "    # Think about what kind of initialisation would benefit this problem\n",
    "    \n",
    "    # Your code here \n",
    "    \n",
    "    for i in range(0,n):\n",
    "        sentence = data[i]\n",
    "        \n",
    "        for j in range(0,m):\n",
    "            \n",
    "            if vocabulary[j] in sentence:\n",
    "                \n",
    "                # Change the value at position i,j in the matrix to 1. \n",
    "                # Use the documentation as needed\n",
    "                \n",
    "                #Your code Here   \n",
    "                \n",
    "    return encoded_sentences"
   ]
  },
  {
   "cell_type": "markdown",
   "id": "b094c4c7",
   "metadata": {},
   "source": [
    "**Note** There are popular machine learning libraries, such as scikit-learn, which have this algorithm already implemented. Once you will have the grasps on the basic python programming skills, you will have a multitude of options available.\n",
    "\n",
    "https://scikit-learn.org/stable/modules/generated/sklearn.preprocessing.OneHotEncoder.html"
   ]
  },
  {
   "cell_type": "markdown",
   "id": "3c6b3aad",
   "metadata": {},
   "source": [
    "Now, please write the code to apply the newly created method on our data. Print out the resulted matrix and the shape"
   ]
  },
  {
   "cell_type": "code",
   "execution_count": null,
   "id": "e0ba1ca0",
   "metadata": {},
   "outputs": [],
   "source": [
    "# Your code here"
   ]
  },
  {
   "cell_type": "markdown",
   "id": "c3c3175f",
   "metadata": {},
   "source": [
    "The expected result should be a matrix filled with 0's and 1's, of shape (3,10)"
   ]
  },
  {
   "cell_type": "markdown",
   "id": "67c4502e",
   "metadata": {},
   "source": [
    "**Bonus exercise** Write a decoder which takes an encoded matrix and returns the sentences"
   ]
  },
  {
   "cell_type": "code",
   "execution_count": null,
   "id": "5e977168",
   "metadata": {},
   "outputs": [],
   "source": [
    "#Your code here"
   ]
  },
  {
   "cell_type": "markdown",
   "id": "7d61632e",
   "metadata": {},
   "source": [
    "Now, in real world problems, One-Hot Encoding textual data, using a variate and complex vocabulary, can lead to very big dimensional and scarce matrices - *curse of dimensionality*.\n",
    "\n",
    "In practice, for a model to gain better understanding of the data, it can use an embedding layer. You will gain a more in depth understanding of word embeddings later in the course, but for now just know that it is a method for representing textual data using dense vectors.Depending on the problem, an embedding layer can be specifically trained on a particular corpus/vocabulary, or, it can use the weights of a pre-trained model (e.g. GloVe).\n",
    "\n",
    "For the purposes of this exercise, let's pretend we are initialising an embedding layer with random weights. Write a method that calculates and outputs the matrix multiplication of the weight matrix and the one-hot-encoded data (OH_encoded x W). "
   ]
  },
  {
   "cell_type": "code",
   "execution_count": null,
   "id": "656d3f5d",
   "metadata": {},
   "outputs": [],
   "source": [
    "# Write your code here:\n",
    "\n",
    "# Initialise a random weight matrix, where each word represents a column and for each word, there are 32 dimensions\n",
    "\n",
    "#weight_matrix =\n",
    "\n",
    "# Write the method definition:"
   ]
  },
  {
   "cell_type": "markdown",
   "id": "2d16eb81",
   "metadata": {},
   "source": [
    "Compile the method written by you and apply it to your One-Hot Encoded Matrix and weight matrix"
   ]
  },
  {
   "cell_type": "code",
   "execution_count": null,
   "id": "9a09f7d6",
   "metadata": {},
   "outputs": [],
   "source": [
    "# Your code here"
   ]
  },
  {
   "cell_type": "markdown",
   "id": "5780576e",
   "metadata": {},
   "source": [
    "The result should be a matrix of shape (3, 32)"
   ]
  },
  {
   "cell_type": "markdown",
   "id": "7765e191",
   "metadata": {},
   "source": [
    "### Exercise 2\n",
    "\n",
    "A simple exercise to test your understanding of how functions are applied on entire arrays in numpy. You will have less hints than in the last one, but ask any demonstrator for help if needed.\n",
    "\n",
    "You will have to create a method that implements a sigmoid function. \n",
    "**Hint:** *sigmoid(x) = 1 / (1 + e^(-x))*\n",
    "\n",
    "The method should be able to take a scalar or a numpy array of any size *x* and return *sigmoid(x)*. To make things interesting, the sigmoid function implementation should take only one line of code"
   ]
  },
  {
   "cell_type": "code",
   "execution_count": null,
   "id": "82d66c0c",
   "metadata": {},
   "outputs": [],
   "source": [
    "# Your code here"
   ]
  },
  {
   "cell_type": "markdown",
   "id": "f7ae5e12",
   "metadata": {},
   "source": [
    "# Solutions:\n",
    "\n",
    "1. type(x) \n",
    "2. print(\"m's dimension is:\", m.shape)\n",
    "3. x = x.reshape(3,1) \n",
    "4. z = np.zeros((5,1)); \n",
    "   r = np.random.rand(3,3)\n",
    "5. x = np.array([1,2,3,4,5]); x + scalar; x * scalar\n",
    "\n",
    "6. y = np.array([3,3,4,5,5])\n",
    "7. product = np.dot(w.T,X)\n",
    "8. x_norm = np.linalg.norm(x,axis=1,keepdims =  True); norm = x/x_norm\n",
    "9. vector = image.reshape(image.shape[0]*image.shape[1]*image.shape[2],1)\n",
    "\n",
    "\n",
    "### Homework Solutions:\n",
    "\n",
    "1. use type(sentences)\n",
    "2. encoded_sentences = np.zeros((n,m)) \n",
    "3. encoded_sentences[i][j] = 1   \n",
    "4. OneHot_encoded = One_Hot_Encoder(sentences, vocabulary)\n",
    "5. weight_matrix = np.random.rand(32,10)\n",
    "6. def Simple_Embedder(W, OH_encoded): \n",
    "       return np.dot(OH_encoded, W.T)\n",
    "7. e = Simple_Embedder(weight_matrix, OneHot_encoded)\n",
    "8. sigmoid = 1/(1+np.exp(-x))\n",
    "\n"
   ]
  },
  {
   "cell_type": "code",
   "execution_count": null,
   "id": "ca6f1d3d",
   "metadata": {},
   "outputs": [],
   "source": []
  }
 ],
 "metadata": {
  "kernelspec": {
   "display_name": "Python 3 (ipykernel)",
   "language": "python",
   "name": "python3"
  },
  "language_info": {
   "codemirror_mode": {
    "name": "ipython",
    "version": 3
   },
   "file_extension": ".py",
   "mimetype": "text/x-python",
   "name": "python",
   "nbconvert_exporter": "python",
   "pygments_lexer": "ipython3",
   "version": "3.9.7"
  }
 },
 "nbformat": 4,
 "nbformat_minor": 5
}