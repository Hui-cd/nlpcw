{
 "cells": [
  {
   "attachments": {},
   "cell_type": "markdown",
   "metadata": {},
   "source": [
    "## Viterbi Algorthm"
   ]
  },
  {
   "cell_type": "code",
   "execution_count": null,
   "metadata": {},
   "outputs": [],
   "source": [
    "def viterbi(observation,states,start_prob,trans_prob,emit_prob):\n",
    "    \"\"\"\n",
    "    :param observation: 观测序列\n",
    "    :param states: 隐状态集合\n",
    "    :param start_prob: 初始状态点概率\n",
    "    :param trans_prob: 状态转移概率\n",
    "    :param emit_prob: 发射概率\n",
    "    \"\"\"\n",
    "    \n",
    "    # 初始化概率表\n",
    "    \n",
    "        \n",
    "        "
   ]
  }
 ],
 "metadata": {
  "language_info": {
   "name": "python"
  },
  "orig_nbformat": 4
 },
 "nbformat": 4,
 "nbformat_minor": 2
}
