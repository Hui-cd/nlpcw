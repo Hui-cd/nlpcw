{
 "cells": [
  {
   "attachments": {},
   "cell_type": "markdown",
   "metadata": {},
   "source": [
    "马尔可夫模型包括以下要素：\n",
    "\n",
    "状态（States）：系统可能处于的离散状态集合。例如，在文本生成中，状态可以是单词或字符。\n",
    "\n",
    "转移概率（Transition Probabilities）：描述从一个状态转移到另一个状态的概率。转移概率可以表示为转移矩阵，其中矩阵的行表示当前状态，列表示下一个状态，并且每个元素表示从当前状态到下一个状态的概率。\n",
    "\n",
    "初始状态概率（Initial State Probabilities）：描述系统初始状态的概率分布。它表示系统开始时处于每个状态的可能性。"
   ]
  },
  {
   "cell_type": "code",
   "execution_count": 7,
   "metadata": {},
   "outputs": [
    {
     "name": "stdout",
     "output_type": "stream",
     "text": [
      "Time 1:\n",
      "  State 0: 0.54\n",
      "  State 1: 0.08000000000000002\n",
      "Time 2:\n",
      "  State 0: 0.041\n",
      "  State 1: 0.16800000000000004\n",
      "Time 3:\n",
      "  State 0: 0.08631000000000003\n",
      "  State 1: 0.022620000000000005\n"
     ]
    }
   ],
   "source": [
    "class HiddenMarkovModel:\n",
    "    def __init__(self, transition_prob, emission_prob, initial_prob):\n",
    "        # 状态转移概率矩阵\n",
    "        self.transition_prob = transition_prob\n",
    "        # 发射概率矩阵\n",
    "        self.emission_prob = emission_prob\n",
    "        # 初始状态概率向量\n",
    "        self.initial_prob = initial_prob\n",
    "\n",
    "    def forward(self, observations):\n",
    "        # 观察序列的长度\n",
    "        num_observations = len(observations)\n",
    "        # 隐藏状态的数量\n",
    "        num_states = len(self.transition_prob)\n",
    "\n",
    "        # 初始化前向概率矩阵\n",
    "        forward_prob = [[0 for _ in range(num_states)] for _ in range(num_observations)]\n",
    "\n",
    "        # 计算第一个观察对应的前向概率\n",
    "        for s in range(num_states):\n",
    "            forward_prob[0][s] = self.initial_prob[s] * self.emission_prob[s][observations[0]]\n",
    "\n",
    "        # 对于每个后续的观察，计算每个状态的前向概率\n",
    "        for t in range(1, num_observations):\n",
    "            for s in range(num_states):\n",
    "                # 求和：前一个时间步的所有状态的前向概率 * 对应的状态转移概率 * 当前状态的发射概率\n",
    "                forward_prob[t][s] = sum(forward_prob[t-1][s_prev] * self.transition_prob[s_prev][s] * self.emission_prob[s][observations[t]] for s_prev in range(num_states))\n",
    "\n",
    "        return forward_prob\n",
    "\n",
    "\n",
    "\n",
    "# 状态转移概率矩阵\n",
    "transition_prob = [\n",
    "    [0.7, 0.3],  # 从 Rainy 转到 [Rainy, Sunny]\n",
    "    [0.4, 0.6],  # 从 Sunny 转到 [Rainy, Sunny]\n",
    "]\n",
    "\n",
    "# 发射概率矩阵\n",
    "emission_prob = [\n",
    "    [0.9, 0.1],  # 在 Rainy 状态下，看到 [Umbrella, No Umbrella] 的概率\n",
    "    [0.2, 0.8],  # 在 Sunny 状态下，看到 [Umbrella, No Umbrella] 的概率\n",
    "]\n",
    "\n",
    "# 初始状态概率向量\n",
    "initial_prob = [0.6, 0.4]  # 开始时 [Rainy, Sunny] 的概率\n",
    "hmm = HiddenMarkovModel(transition_prob, emission_prob, initial_prob)\n",
    "observations = [0, 1, 0]  # 观察序列：Umbrella, No Umbrella, Umbrella\n",
    "forward_prob = hmm.forward(observations)\n",
    "for i in range(len(forward_prob)):\n",
    "    print(f'Time {i+1}:')\n",
    "    for j in range(len(forward_prob[i])):\n",
    "        print(f'  State {j}: {forward_prob[i][j]}')\n"
   ]
  }
 ],
 "metadata": {
  "kernelspec": {
   "display_name": "Python 3",
   "language": "python",
   "name": "python3"
  },
  "language_info": {
   "codemirror_mode": {
    "name": "ipython",
    "version": 3
   },
   "file_extension": ".py",
   "mimetype": "text/x-python",
   "name": "python",
   "nbconvert_exporter": "python",
   "pygments_lexer": "ipython3",
   "version": "3.10.9"
  },
  "orig_nbformat": 4
 },
 "nbformat": 4,
 "nbformat_minor": 2
}
