{
 "cells": [
  {
   "attachments": {},
   "cell_type": "markdown",
   "metadata": {},
   "source": [
    "min edit distance"
   ]
  },
  {
   "cell_type": "code",
   "execution_count": 15,
   "metadata": {},
   "outputs": [
    {
     "data": {
      "text/plain": [
       "[[0, 1, 2, 3, 4, 5, 6], [1, 0, 1, 2, 3, 4, 5], [2, 1, 1, 1, 2, 3, 4]]"
      ]
     },
     "execution_count": 15,
     "metadata": {},
     "output_type": "execute_result"
    }
   ],
   "source": [
    "def min_edit_distance(x,y):\n",
    "    size_x = len(x)+1\n",
    "    size_y =len(y)+1\n",
    "    # y is column , x is row\n",
    "    matrix = [[0 for _ in range(size_y)] for _ in range(size_x)]\n",
    "    for i in range(size_x):\n",
    "        matrix[i][0] = i\n",
    "    for j in range(size_y):\n",
    "        matrix[0][j] = j\n",
    "        \n",
    "    for i in range(1,size_x):\n",
    "        for j in range(1,size_y):\n",
    "            if x[i-1]==y[j-1]:\n",
    "                matrix[i][j] = min(matrix[i-1][j]+1,\n",
    "                                matrix[i-1][j-1],\n",
    "                                matrix[i][j-1]+1)\n",
    "            else:\n",
    "                matrix[i][j] = min(matrix[i-1][j]+1,\n",
    "                                matrix[i-1][j-1]+1,\n",
    "                                matrix[i][j-1]+1)\n",
    "    return matrix \n",
    "    # for i in (1,x_len):\n",
    "    #     distance_matrix[i,0] = distance_matrix[i-1,0]+1\n",
    "    \n",
    "min_edit_distance('ad','asdasd')\n",
    "    "
   ]
  }
 ],
 "metadata": {
  "kernelspec": {
   "display_name": "Python 3",
   "language": "python",
   "name": "python3"
  },
  "language_info": {
   "codemirror_mode": {
    "name": "ipython",
    "version": 3
   },
   "file_extension": ".py",
   "mimetype": "text/x-python",
   "name": "python",
   "nbconvert_exporter": "python",
   "pygments_lexer": "ipython3",
   "version": "3.10.9"
  },
  "orig_nbformat": 4
 },
 "nbformat": 4,
 "nbformat_minor": 2
}
